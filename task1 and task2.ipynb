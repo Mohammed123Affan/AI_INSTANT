{
 "cells": [
  {
   "cell_type": "markdown",
   "id": "b5faaf51",
   "metadata": {},
   "source": [
    "# Task1 How to simulation do....while in python"
   ]
  },
  {
   "cell_type": "code",
   "execution_count": 3,
   "id": "ee20bbfc",
   "metadata": {
    "ExecuteTime": {
     "end_time": "2024-03-08T22:48:16.446635Z",
     "start_time": "2024-03-08T22:48:14.538393Z"
    }
   },
   "outputs": [
    {
     "name": "stdout",
     "output_type": "stream",
     "text": [
      "Enter the number:11\n",
      "11 ==> sub 1 from number\n",
      "10 ==> sub 1 from number\n",
      "9 ==> the number is accepted\n"
     ]
    }
   ],
   "source": [
    "number = int(input('Enter the number:'))\n",
    "test = True\n",
    "while test:\n",
    "    if number < 10:\n",
    "        print(f\"{number} ==> the number is accepted\")\n",
    "        test = False\n",
    "    else:\n",
    "        print(f'{number} ==> sub 1 from number')\n",
    "        number -= 1\n",
    "        "
   ]
  },
  {
   "cell_type": "markdown",
   "id": "915e4810",
   "metadata": {},
   "source": [
    "# Task2 "
   ]
  },
  {
   "cell_type": "markdown",
   "id": "ef620057",
   "metadata": {},
   "source": [
    "**1-Write a Python program to calculate the length of a string using 2 ways"
   ]
  },
  {
   "cell_type": "code",
   "execution_count": 5,
   "id": "d37e16c3",
   "metadata": {
    "ExecuteTime": {
     "end_time": "2024-03-08T22:57:54.084169Z",
     "start_time": "2024-03-08T22:57:54.077160Z"
    }
   },
   "outputs": [
    {
     "name": "stdout",
     "output_type": "stream",
     "text": [
      "the length of string = 22\n"
     ]
    }
   ],
   "source": [
    "string  = \"mohammed elsayed affan\"\n",
    "count = 0\n",
    "for i in string:\n",
    "    count +=1\n",
    "    \n",
    "print(f'the length of string = {count}')"
   ]
  },
  {
   "cell_type": "code",
   "execution_count": 6,
   "id": "4b176f81",
   "metadata": {
    "ExecuteTime": {
     "end_time": "2024-03-08T22:58:16.140055Z",
     "start_time": "2024-03-08T22:58:16.119688Z"
    }
   },
   "outputs": [
    {
     "data": {
      "text/plain": [
       "22"
      ]
     },
     "execution_count": 6,
     "metadata": {},
     "output_type": "execute_result"
    }
   ],
   "source": [
    "len(string)"
   ]
  },
  {
   "cell_type": "markdown",
   "id": "b113ff6f",
   "metadata": {},
   "source": [
    "**2-Write a Python program to get a string made of the first 2 and last 2 characters of a given string. If the string length is less than 2, return the empty string instead (\"##Sample String : 'w3resource' Expected Result : 'w3ce' ##Sample String : 'w3' Expected Result : 'w3w3' ##Sample String : ' w' Expected Result : Empty String)"
   ]
  },
  {
   "cell_type": "code",
   "execution_count": 11,
   "id": "d1941133",
   "metadata": {
    "ExecuteTime": {
     "end_time": "2024-03-08T23:06:15.264725Z",
     "start_time": "2024-03-08T23:06:03.833643Z"
    }
   },
   "outputs": [
    {
     "name": "stdout",
     "output_type": "stream",
     "text": [
      "Enter the string: w3resource\n",
      "w3ce\n"
     ]
    }
   ],
   "source": [
    "string = input('Enter the string: ')\n",
    "\n",
    "if len(string) >= 2:\n",
    "    print(f'{string[0:2]}{string[-2:]}')\n",
    "else:\n",
    "    print(\"Empty String\")"
   ]
  },
  {
   "cell_type": "markdown",
   "id": "f204fc95",
   "metadata": {},
   "source": [
    "**3-Write a Python program to add 'ing' at the end of a given string (length should be at least 3). If the given string already ends with 'ing', add 'ly' instead. If the string length of the given string is less than 3, leave it unchanged. (Sample String : 'abc' Expected Result : 'abcing')"
   ]
  },
  {
   "cell_type": "code",
   "execution_count": 23,
   "id": "deec7603",
   "metadata": {
    "ExecuteTime": {
     "end_time": "2024-03-08T23:16:14.609973Z",
     "start_time": "2024-03-08T23:16:11.817327Z"
    }
   },
   "outputs": [
    {
     "name": "stdout",
     "output_type": "stream",
     "text": [
      "Enter the string: lyg\n",
      "the string after add ing :lyging\n"
     ]
    }
   ],
   "source": [
    "string = input('Enter the string: ')\n",
    "\n",
    "if len(string) < 3:\n",
    "    print(f'the string with out changed :{string}')\n",
    "elif string[-3:] == 'ing':\n",
    "    string = string + 'ly'\n",
    "    print(f'the string after add ly :{string}')\n",
    "else:\n",
    "    string = string + 'ing'\n",
    "    print(f'the string after add ing :{string}')\n",
    "    "
   ]
  },
  {
   "cell_type": "markdown",
   "id": "d4e355e9",
   "metadata": {},
   "source": [
    "**4-Write a Python function that takes a list of words and return the longest word and the length of the longest one (Longest word: Exercises Length of the longest word: 9)"
   ]
  },
  {
   "cell_type": "code",
   "execution_count": 26,
   "id": "cffeec4f",
   "metadata": {
    "ExecuteTime": {
     "end_time": "2024-03-08T23:40:32.927707Z",
     "start_time": "2024-03-08T23:40:32.913107Z"
    }
   },
   "outputs": [
    {
     "name": "stdout",
     "output_type": "stream",
     "text": [
      "Longest word:mohammed Length of the longest word: 8\n"
     ]
    }
   ],
   "source": [
    "def maxword(strings):\n",
    "    str_len = []\n",
    "    for string in strings:\n",
    "        length = len(string)\n",
    "        str_len.append(length)\n",
    "    max_len = max(str_len)\n",
    "    print(f'Longest word:{strings[str_len.index(max_len)]} Length of the longest word: {max_len}')\n",
    "maxword(['ronaldo','mohammed','elsayed','affan'])"
   ]
  },
  {
   "cell_type": "markdown",
   "id": "eae41eab",
   "metadata": {},
   "source": [
    "**5-Write a Python program to change a given string to a newly string where the first and last chars have been exchanged using 2 ways (Sample String:abca Expected Result:ebce)"
   ]
  },
  {
   "cell_type": "code",
   "execution_count": 41,
   "id": "7d89af7f",
   "metadata": {
    "ExecuteTime": {
     "end_time": "2024-03-08T23:55:33.655935Z",
     "start_time": "2024-03-08T23:55:30.463207Z"
    }
   },
   "outputs": [
    {
     "name": "stdout",
     "output_type": "stream",
     "text": [
      "Enter the string: abce\n",
      "the new string is: ebca\n"
     ]
    }
   ],
   "source": [
    "string = input('Enter the string: ')\n",
    "print(f'the new string is: { string[-1]}{string[1:-1]}{string[0]}')"
   ]
  },
  {
   "cell_type": "code",
   "execution_count": null,
   "id": "218dc06a",
   "metadata": {},
   "outputs": [],
   "source": []
  },
  {
   "cell_type": "markdown",
   "id": "a22f7bae",
   "metadata": {},
   "source": [
    "**6-Write a Python program to remove characters that have odd index values in a given string (Sample String:abca Expected Result:ac)"
   ]
  },
  {
   "cell_type": "code",
   "execution_count": 52,
   "id": "0c312941",
   "metadata": {
    "ExecuteTime": {
     "end_time": "2024-03-09T00:06:05.310709Z",
     "start_time": "2024-03-09T00:06:03.386997Z"
    }
   },
   "outputs": [
    {
     "name": "stdout",
     "output_type": "stream",
     "text": [
      "Enter the string: abca\n",
      "string after remove odd values: ac\n"
     ]
    }
   ],
   "source": [
    "string = input('Enter the string: ')\n",
    "out = ''\n",
    "for i in range(0,len(string)):\n",
    "    if i % 2 == 0:\n",
    "        out = out + string[i]\n",
    "        \n",
    "print(f'string after remove odd values: {out}')"
   ]
  },
  {
   "cell_type": "markdown",
   "id": "8f635d08",
   "metadata": {},
   "source": [
    "**7-Write a Python program to count the occurrences of each word in a given sentence (Sample String:amr and ahmed are frindes but amr is the tallest Expected Result:2)"
   ]
  },
  {
   "cell_type": "code",
   "execution_count": 10,
   "id": "acd4a310",
   "metadata": {
    "ExecuteTime": {
     "end_time": "2024-03-09T14:41:30.153441Z",
     "start_time": "2024-03-09T14:41:30.144077Z"
    }
   },
   "outputs": [
    {
     "name": "stdout",
     "output_type": "stream",
     "text": [
      "the Result: 3\n"
     ]
    }
   ],
   "source": [
    "def count_word(string):\n",
    "    counts = dict()\n",
    "    words = string.split()\n",
    "    for word in words:\n",
    "        if word in counts:\n",
    "            counts[word] +=1\n",
    "        else:\n",
    "            counts[word] = 1\n",
    "            \n",
    "    return counts\n",
    "\n",
    "counts = count_word('amr and ahmed are frindes but amr is the tallest')\n",
    "print(f'the Result: {max(counts.values())}')"
   ]
  },
  {
   "cell_type": "markdown",
   "id": "7a689cc5",
   "metadata": {},
   "source": [
    "**8-Write a Python script that takes input from the user and displays that input back in upper and lower cases"
   ]
  },
  {
   "cell_type": "code",
   "execution_count": 11,
   "id": "88799b80",
   "metadata": {
    "ExecuteTime": {
     "end_time": "2024-03-09T14:58:15.749542Z",
     "start_time": "2024-03-09T14:58:04.312584Z"
    }
   },
   "outputs": [
    {
     "name": "stdout",
     "output_type": "stream",
     "text": [
      "Enter the massege: my name is MOHAMMED AFFAN\n",
      "the massege with lower case: my name is mohammed affan\n",
      "the massege with upper case: MY NAME IS MOHAMMED AFFAN\n"
     ]
    }
   ],
   "source": [
    "user_input = input('Enter the massege: ')\n",
    "\n",
    "print(f'the massege with lower case: {user_input.lower()}')\n",
    "print(f'the massege with upper case: {user_input.upper()}')\n"
   ]
  },
  {
   "cell_type": "markdown",
   "id": "7ca98535",
   "metadata": {},
   "source": [
    "**9-Write a Python function to reverse a string if its length is a multiple of 4"
   ]
  },
  {
   "cell_type": "code",
   "execution_count": 24,
   "id": "15238ab1",
   "metadata": {
    "ExecuteTime": {
     "end_time": "2024-03-09T15:35:17.324352Z",
     "start_time": "2024-03-09T15:35:14.972153Z"
    }
   },
   "outputs": [
    {
     "name": "stdout",
     "output_type": "stream",
     "text": [
      "Enter the string: moha\n",
      "the string is reversed: ahom\n"
     ]
    }
   ],
   "source": [
    "def reverse_string(string):\n",
    "    if len(string) % 4 == 0:\n",
    "        newstring = ''\n",
    "        for i in range(-1,-len(string)-1,-1):\n",
    "            newstring += string[i] \n",
    "        print(f'the string is reversed: {newstring}')\n",
    "    else:\n",
    "        print(f'the string not reversed: {string}')\n",
    "\n",
    "\n",
    "string = input('Enter the string: ')\n",
    "reverse_string(string)"
   ]
  },
  {
   "cell_type": "markdown",
   "id": "537a9c5b",
   "metadata": {},
   "source": [
    "**10- Write a Python program to remove a newline in Python"
   ]
  },
  {
   "cell_type": "code",
   "execution_count": 38,
   "id": "b76008fa",
   "metadata": {
    "ExecuteTime": {
     "end_time": "2024-03-09T15:45:24.629366Z",
     "start_time": "2024-03-09T15:45:24.619929Z"
    }
   },
   "outputs": [
    {
     "name": "stdout",
     "output_type": "stream",
     "text": [
      "moahmmed affan\n"
     ]
    }
   ],
   "source": [
    "string = 'moahmmed affan\\n'\n",
    "print(string.strip())"
   ]
  },
  {
   "cell_type": "markdown",
   "id": "40883374",
   "metadata": {},
   "source": [
    "**11-Write a Python program to check whether a string starts with specified characters"
   ]
  },
  {
   "cell_type": "code",
   "execution_count": 40,
   "id": "01dee7e3",
   "metadata": {
    "ExecuteTime": {
     "end_time": "2024-03-09T15:51:09.416070Z",
     "start_time": "2024-03-09T15:51:03.199895Z"
    }
   },
   "outputs": [
    {
     "name": "stdout",
     "output_type": "stream",
     "text": [
      "Enter the string: affan mohammed\n",
      "True\n"
     ]
    }
   ],
   "source": [
    "string = input('Enter the string: ')\n",
    "print(string.startswith('affan'))"
   ]
  },
  {
   "cell_type": "markdown",
   "id": "c73cece9",
   "metadata": {},
   "source": [
    "**12- Write a Python program to add prefix text to all of the lines in a string"
   ]
  },
  {
   "cell_type": "code",
   "execution_count": 7,
   "id": "96656755",
   "metadata": {
    "ExecuteTime": {
     "end_time": "2024-03-14T18:51:30.167197Z",
     "start_time": "2024-03-14T18:51:28.791212Z"
    }
   },
   "outputs": [
    {
     "name": "stdout",
     "output_type": "stream",
     "text": [
      "Enter the prefix value: >\n",
      ">my name is :\n",
      ">mohammed affan\n",
      ">and age is 22 \n"
     ]
    }
   ],
   "source": [
    "string = \"\"\"my name is :\n",
    "mohammed affan\n",
    "and age is 22 \"\"\"\n",
    "\n",
    "prefix_value = input(\"Enter the prefix value: \")\n",
    "\n",
    "for line in string.splitlines():\n",
    "    print(\"\".join(prefix_value+line))"
   ]
  },
  {
   "cell_type": "markdown",
   "id": "723815ce",
   "metadata": {},
   "source": [
    "**13-Write a Python program to print the following numbers up to 2 decimal places"
   ]
  },
  {
   "cell_type": "code",
   "execution_count": 2,
   "id": "5b0ac0da",
   "metadata": {
    "ExecuteTime": {
     "end_time": "2024-03-10T12:43:41.204919Z",
     "start_time": "2024-03-10T12:43:37.145700Z"
    }
   },
   "outputs": [
    {
     "name": "stdout",
     "output_type": "stream",
     "text": [
      "Enter the float number: 13.1415926\n",
      "number up to 2 decimal places : 13.14\n"
     ]
    }
   ],
   "source": [
    "num = float(input('Enter the float number: '))\n",
    "print(f\"number up to 2 decimal places : {num:.2f}\")"
   ]
  },
  {
   "cell_type": "markdown",
   "id": "668d47a2",
   "metadata": {},
   "source": [
    "**14-Write a Python program to print the following numbers up to 2 decimal places with a sign"
   ]
  },
  {
   "cell_type": "code",
   "execution_count": 7,
   "id": "402c4ff8",
   "metadata": {
    "ExecuteTime": {
     "end_time": "2024-03-10T12:45:33.679910Z",
     "start_time": "2024-03-10T12:45:28.734872Z"
    }
   },
   "outputs": [
    {
     "name": "stdout",
     "output_type": "stream",
     "text": [
      "Enter the float number: -12.986\n",
      "number up to 2 decimal places : -12.99\n"
     ]
    }
   ],
   "source": [
    "num = float(input('Enter the float number: '))\n",
    "print(f\"number up to 2 decimal places : {num:+.2f}\")"
   ]
  },
  {
   "cell_type": "markdown",
   "id": "4640919c",
   "metadata": {},
   "source": [
    "**15-Write a Python program to display a number with a comma separator"
   ]
  },
  {
   "cell_type": "code",
   "execution_count": 8,
   "id": "1faab7e9",
   "metadata": {
    "ExecuteTime": {
     "end_time": "2024-03-10T12:46:35.013541Z",
     "start_time": "2024-03-10T12:46:29.863667Z"
    }
   },
   "outputs": [
    {
     "name": "stdout",
     "output_type": "stream",
     "text": [
      "Enter the float number: 3000000000\n",
      "number comma separator : 3,000,000,000\n"
     ]
    }
   ],
   "source": [
    "num = int(input('Enter the float number: '))\n",
    "print(f\"number comma separator : {num:,}\")"
   ]
  },
  {
   "cell_type": "markdown",
   "id": "e21b87d8",
   "metadata": {},
   "source": [
    "**16-Write a Python program to reverse a string using 2 ways"
   ]
  },
  {
   "cell_type": "code",
   "execution_count": 22,
   "id": "cdd084ec",
   "metadata": {
    "ExecuteTime": {
     "end_time": "2024-03-10T12:56:00.738313Z",
     "start_time": "2024-03-10T12:56:00.728780Z"
    }
   },
   "outputs": [
    {
     "name": "stdout",
     "output_type": "stream",
     "text": [
      "the revers string: naffa deyasle demmahom\n",
      "the revers string: naffa deyasle demmahom\n",
      "the revers string: naffa deyasle demmahom\n"
     ]
    }
   ],
   "source": [
    "string = \"mohammed elsayed affan\"\n",
    "print(f\"the revers string: {''.join(reversed(string))}\")\n",
    "print(f\"the revers string: {string[-1:-len(string)-1:-1]}\")\n",
    "print(f\"the revers string: {string[::-1]}\")"
   ]
  },
  {
   "cell_type": "markdown",
   "id": "f3f793e5",
   "metadata": {},
   "source": [
    "**17-Write a Python program to count repeated characters in a string (hint:use dictionary)"
   ]
  },
  {
   "cell_type": "code",
   "execution_count": 32,
   "id": "af06b1d3",
   "metadata": {
    "ExecuteTime": {
     "end_time": "2024-03-10T13:03:59.832985Z",
     "start_time": "2024-03-10T13:03:59.824097Z"
    }
   },
   "outputs": [
    {
     "name": "stdout",
     "output_type": "stream",
     "text": [
      "{'m': 3, 'o': 1, 'h': 1, 'a': 4, 'e': 3, 'd': 2, ' ': 2, 'l': 1, 's': 1, 'y': 1, 'f': 2, 'n': 1}\n"
     ]
    }
   ],
   "source": [
    "string = \"mohammed elsayed affan\"\n",
    "count = {}\n",
    "\n",
    "for i in string:\n",
    "    if i in count:\n",
    "        count[i] += 1\n",
    "    else:\n",
    "        count[i] = 1\n",
    "        \n",
    "print(count)"
   ]
  },
  {
   "cell_type": "markdown",
   "id": "f2e07369",
   "metadata": {},
   "source": [
    "**18-Write a Python program to find the first non-repeating character in a given string"
   ]
  },
  {
   "cell_type": "code",
   "execution_count": 34,
   "id": "f1cdba26",
   "metadata": {
    "ExecuteTime": {
     "end_time": "2024-03-10T13:12:40.494126Z",
     "start_time": "2024-03-10T13:12:40.481404Z"
    }
   },
   "outputs": [
    {
     "name": "stdout",
     "output_type": "stream",
     "text": [
      "not found the non repeating char\n",
      "the first non repeating char is : o\n"
     ]
    }
   ],
   "source": [
    "string = \"mohammed elsayed\"\n",
    "char_ord = []\n",
    "char = {}\n",
    "\n",
    "for i in string:\n",
    "    if i in char:\n",
    "        char[i] += 1\n",
    "    else:\n",
    "        char[i] = 1\n",
    "        char_ord.append(i)\n",
    "        \n",
    "        \n",
    "for i in char_ord:\n",
    "    if char[i] == 1:\n",
    "        print(f\"the first non repeating char is : {i}\")\n",
    "        break\n",
    "    else:\n",
    "        print(\"not found the non repeating char\")"
   ]
  },
  {
   "cell_type": "markdown",
   "id": "48c93b29",
   "metadata": {},
   "source": [
    "**19-Write a Python program to remove spaces from a given string"
   ]
  },
  {
   "cell_type": "code",
   "execution_count": 39,
   "id": "a767ab98",
   "metadata": {
    "ExecuteTime": {
     "end_time": "2024-03-10T13:17:09.701188Z",
     "start_time": "2024-03-10T13:17:09.692450Z"
    }
   },
   "outputs": [
    {
     "name": "stdout",
     "output_type": "stream",
     "text": [
      "string with out spaces: mohammedelsayedaffan\n"
     ]
    }
   ],
   "source": [
    "string = \"mohammed elsayed affan\"\n",
    "print(f\"string with out spaces: {string.replace(' ','')}\")"
   ]
  },
  {
   "cell_type": "markdown",
   "id": "da154f54",
   "metadata": {},
   "source": [
    "**20-Write a Python program to count the number of non-empty substrings of a given string"
   ]
  },
  {
   "cell_type": "code",
   "execution_count": 45,
   "id": "92c8228d",
   "metadata": {
    "ExecuteTime": {
     "end_time": "2024-03-10T13:25:26.111253Z",
     "start_time": "2024-03-10T13:25:19.044077Z"
    }
   },
   "outputs": [
    {
     "name": "stdout",
     "output_type": "stream",
     "text": [
      "Enter the string: mohammed elsayed affan\n",
      "number of substrings: 253\n"
     ]
    }
   ],
   "source": [
    "string = input(\"Enter the string: \")\n",
    "\n",
    "number_of_substrings = 0\n",
    "length = len(string)\n",
    "while  length > 0:\n",
    "    number_of_substrings += length\n",
    "    length -= 1\n",
    "    \n",
    "print(f\"number of substrings: {number_of_substrings}\")"
   ]
  },
  {
   "cell_type": "markdown",
   "id": "0246a84f",
   "metadata": {},
   "source": [
    "**21-write a Python program to swap first and last element of any list."
   ]
  },
  {
   "cell_type": "code",
   "execution_count": 46,
   "id": "7d7534b5",
   "metadata": {
    "ExecuteTime": {
     "end_time": "2024-03-10T13:30:15.236097Z",
     "start_time": "2024-03-10T13:30:15.215157Z"
    }
   },
   "outputs": [
    {
     "name": "stdout",
     "output_type": "stream",
     "text": [
      "list with swap first and last element: [50, 20, 30, 40, 10]\n"
     ]
    }
   ],
   "source": [
    "def swap_last_first(l):\n",
    "    temp = l[0]\n",
    "    l[0] = l[-1]\n",
    "    l[-1] = temp\n",
    "    return l\n",
    "\n",
    "l = [10,20,30,40,50]\n",
    "print(f\"list with swap first and last element: {swap_last_first(l)}\")"
   ]
  },
  {
   "cell_type": "code",
   "execution_count": 47,
   "id": "fea8f91e",
   "metadata": {
    "ExecuteTime": {
     "end_time": "2024-03-10T13:34:12.371804Z",
     "start_time": "2024-03-10T13:34:12.360020Z"
    }
   },
   "outputs": [
    {
     "name": "stdout",
     "output_type": "stream",
     "text": [
      "list with swap pos of  element: [30, 20, 10, 40, 50]\n"
     ]
    }
   ],
   "source": [
    "def swap_pos_in_list(l,pos1,pos2):\n",
    "    temp = l[pos1]\n",
    "    l[pos1] = l[pos2]\n",
    "    l[pos2] = temp\n",
    "    return l\n",
    "\n",
    "l = [10,20,30,40,50]\n",
    "print(f\"list with swap pos of  element: {swap_pos_in_list(l,0,2)}\")"
   ]
  },
  {
   "cell_type": "markdown",
   "id": "92be33c2",
   "metadata": {},
   "source": [
    "**23- search for the all ways to know the length of the list"
   ]
  },
  {
   "cell_type": "code",
   "execution_count": 51,
   "id": "4fd98fd0",
   "metadata": {
    "ExecuteTime": {
     "end_time": "2024-03-10T13:37:33.485115Z",
     "start_time": "2024-03-10T13:37:33.472018Z"
    }
   },
   "outputs": [
    {
     "name": "stdout",
     "output_type": "stream",
     "text": [
      "first way: 5\n",
      "second way: 5\n"
     ]
    }
   ],
   "source": [
    "l = [10,20,30,40,50]\n",
    "print(f\"first way: {len(l)}\")\n",
    "\n",
    "count = 0\n",
    "for i in l:\n",
    "    count += 1\n",
    "print(f\"second way: {count}\")"
   ]
  },
  {
   "cell_type": "markdown",
   "id": "4747452f",
   "metadata": {},
   "source": [
    "**24-write a Python code to find the Maximum number of list of numbers."
   ]
  },
  {
   "cell_type": "code",
   "execution_count": 55,
   "id": "b6079b56",
   "metadata": {
    "ExecuteTime": {
     "end_time": "2024-03-10T13:50:09.455550Z",
     "start_time": "2024-03-10T13:50:09.426142Z"
    }
   },
   "outputs": [
    {
     "name": "stdout",
     "output_type": "stream",
     "text": [
      "the maximum number: 201\n",
      "the maximum number: 201\n"
     ]
    }
   ],
   "source": [
    "l = [10,20,15,200,159,201,199,30,40,50]\n",
    "print(f\"the maximum number: {max(l)}\")\n",
    "\n",
    "maximum = l[0]\n",
    "\n",
    "for i in l:\n",
    "    if i > maximum: maximum = i\n",
    "    \n",
    "print(f\"the maximum number: {maximum}\")"
   ]
  },
  {
   "cell_type": "markdown",
   "id": "6890265e",
   "metadata": {},
   "source": [
    "**25-write a Python code to find the Minimum number of list of numbers."
   ]
  },
  {
   "cell_type": "code",
   "execution_count": 56,
   "id": "4bc5c6c6",
   "metadata": {
    "ExecuteTime": {
     "end_time": "2024-03-10T13:51:33.005071Z",
     "start_time": "2024-03-10T13:51:32.991947Z"
    }
   },
   "outputs": [
    {
     "name": "stdout",
     "output_type": "stream",
     "text": [
      "the minimum number: 10\n",
      "the minimum number: 10\n"
     ]
    }
   ],
   "source": [
    "l = [10,20,15,200,159,201,199,30,40,50]\n",
    "print(f\"the minimum number: {min(l)}\")\n",
    "\n",
    "minimum = l[0]\n",
    "\n",
    "for i in l:\n",
    "    if i < minimum: minimum = i\n",
    "    \n",
    "print(f\"the minimum number: {minimum}\")"
   ]
  },
  {
   "cell_type": "markdown",
   "id": "c2e14779",
   "metadata": {},
   "source": [
    "**26-search for if an elem is existing in list"
   ]
  },
  {
   "cell_type": "code",
   "execution_count": 57,
   "id": "d35ac340",
   "metadata": {
    "ExecuteTime": {
     "end_time": "2024-03-10T14:04:39.437198Z",
     "start_time": "2024-03-10T14:04:37.356846Z"
    }
   },
   "outputs": [
    {
     "name": "stdout",
     "output_type": "stream",
     "text": [
      "enter the element: 200\n",
      "the item 200 existing\n"
     ]
    }
   ],
   "source": [
    "l = [10,20,15,200,159,201,199,30,40,50]\n",
    "item = int(input(\"enter the element: \"))\n",
    "if item in l:\n",
    "    print(f\"the item {item} existing\")\n",
    "else:\n",
    "    print(f\"the item {item} not existing\")"
   ]
  },
  {
   "cell_type": "markdown",
   "id": "e6a63826",
   "metadata": {},
   "source": [
    "**27- clear python list using different ways"
   ]
  },
  {
   "cell_type": "code",
   "execution_count": 62,
   "id": "75bffdec",
   "metadata": {
    "ExecuteTime": {
     "end_time": "2024-03-10T14:08:33.939300Z",
     "start_time": "2024-03-10T14:08:33.929577Z"
    }
   },
   "outputs": [
    {
     "name": "stdout",
     "output_type": "stream",
     "text": [
      "the list after clear []\n",
      "the list after clear []\n",
      "the list after clear []\n"
     ]
    }
   ],
   "source": [
    "l = [10,20,15,200,159,201,199,30,40,50]\n",
    "\n",
    "l.clear()\n",
    "print(f\"the list after clear {l}\")\n",
    "\n",
    "\n",
    "l = [10,20,15,200,159,201,199,30,40,50]\n",
    "\n",
    "l *= 0\n",
    "print(f\"the list after clear {l}\")\n",
    "\n",
    "\n",
    "l = [10,20,15,200,159,201,199,30,40,50]\n",
    "\n",
    "l = []\n",
    "print(f\"the list after clear {l}\")"
   ]
  },
  {
   "cell_type": "markdown",
   "id": "65871106",
   "metadata": {},
   "source": [
    "**28-remove duplicated elements from a list"
   ]
  },
  {
   "cell_type": "code",
   "execution_count": 64,
   "id": "3792e796",
   "metadata": {
    "ExecuteTime": {
     "end_time": "2024-03-10T14:11:12.650226Z",
     "start_time": "2024-03-10T14:11:12.640704Z"
    },
    "scrolled": true
   },
   "outputs": [
    {
     "name": "stdout",
     "output_type": "stream",
     "text": [
      "the list after duplicated: [1, 2, 5, 11, 23, 22, 55]\n"
     ]
    }
   ],
   "source": [
    "l = [11,2,1,1,2,5,55,5,11,23,22]\n",
    "\n",
    "print(f\"the list after duplicated: {list(set(l))}\")"
   ]
  },
  {
   "cell_type": "markdown",
   "id": "cd69af17",
   "metadata": {},
   "source": [
    "**29-Given list values and keys list, convert these values to key value pairs in form of list of dictionaries. (Input : test_list = [“Gfg”, 3, “is”, 8], key_list = [“name”, “id”] Output : [{‘name’: ‘Gfg’, ‘id’: 3}, {‘name’: ‘is’, ‘id’: 8}])"
   ]
  },
  {
   "cell_type": "code",
   "execution_count": 36,
   "id": "01c86b75",
   "metadata": {
    "ExecuteTime": {
     "end_time": "2024-03-14T19:17:54.728137Z",
     "start_time": "2024-03-14T19:17:54.719770Z"
    }
   },
   "outputs": [
    {
     "name": "stdout",
     "output_type": "stream",
     "text": [
      "the dictionary is: {'name': 'mohammed', 'id': 22}\n"
     ]
    }
   ],
   "source": [
    "keys = [\"name\" , \"id\"]\n",
    "values = [\"mohammed\" ,22]\n",
    "dic = {}\n",
    "\n",
    "for key in keys:\n",
    "    for value in values:\n",
    "        dic[key] = value\n",
    "        values.remove(value)\n",
    "        break\n",
    "        \n",
    "print(f\"the dictionary is: {dic}\")\n",
    "\n"
   ]
  },
  {
   "cell_type": "markdown",
   "id": "dc0422ec",
   "metadata": {},
   "source": [
    "**30-write a python program to count unique values inside a list using different ways"
   ]
  },
  {
   "cell_type": "code",
   "execution_count": 6,
   "id": "3eaabb4a",
   "metadata": {
    "ExecuteTime": {
     "end_time": "2024-03-11T20:09:47.591597Z",
     "start_time": "2024-03-11T20:09:47.569908Z"
    }
   },
   "outputs": [
    {
     "name": "stdout",
     "output_type": "stream",
     "text": [
      "number of unique item is : 2\n"
     ]
    }
   ],
   "source": [
    "_list = [1, 2, 2, 5, 8, 4, 4, 0, 5, 8]\n",
    "l = [] \n",
    "count = 0\n",
    "\n",
    "for item in _list:\n",
    "    if item not in l:\n",
    "        count += 1\n",
    "        l.append(item)\n",
    "    else:\n",
    "        count -= 1\n",
    "        \n",
    "print(f\"number of unique item is : {count}\")"
   ]
  },
  {
   "cell_type": "markdown",
   "id": "b4f8000c",
   "metadata": {},
   "source": [
    "**31-write a python program Extract all elements with Frequency greater than K (Input : test_list = [4, 6, 4, 3, 3, 4, 3, 4, 3, 8], K = 3 Output : [4, 3] )"
   ]
  },
  {
   "cell_type": "code",
   "execution_count": 7,
   "id": "93e1c1d2",
   "metadata": {
    "ExecuteTime": {
     "end_time": "2024-03-11T20:14:54.448961Z",
     "start_time": "2024-03-11T20:14:54.424990Z"
    }
   },
   "outputs": [
    {
     "name": "stdout",
     "output_type": "stream",
     "text": [
      "the frequency list: [4, 3]\n"
     ]
    }
   ],
   "source": [
    "test_list = [4, 6, 4, 3, 3, 4, 3, 4, 3, 8]\n",
    "k = 3\n",
    "\n",
    "count =[]\n",
    "\n",
    "for i in test_list:\n",
    "    \n",
    "    frequnt = test_list.count(i)\n",
    "    \n",
    "    if frequnt >= k and i not in count:\n",
    "        count.append(i)\n",
    "        \n",
    "        \n",
    "print(f\"the frequency list: {count}\")"
   ]
  },
  {
   "cell_type": "markdown",
   "id": "ce65495e",
   "metadata": {
    "ExecuteTime": {
     "end_time": "2024-03-11T20:21:41.229942Z",
     "start_time": "2024-03-11T20:21:41.215153Z"
    }
   },
   "source": [
    "**32-write a python program to find the Strongest Neighbour (Input: 1 2 2 3 4 5 Output: 2 2 3 4 5)"
   ]
  },
  {
   "cell_type": "code",
   "execution_count": 12,
   "id": "9cae9bb2",
   "metadata": {
    "ExecuteTime": {
     "end_time": "2024-03-11T20:51:21.921546Z",
     "start_time": "2024-03-11T20:51:21.905815Z"
    }
   },
   "outputs": [
    {
     "name": "stdout",
     "output_type": "stream",
     "text": [
      "the strongest neighbour: [2, 2, 3, 4, 5]\n"
     ]
    }
   ],
   "source": [
    "_list = [1,2,2,3,4,5]\n",
    "l = [] \n",
    "for i in range (1,len(_list)):\n",
    "    \n",
    "    r = max(_list[i],_list[i-1])\n",
    "    l.append(r)\n",
    "    \n",
    "print(f\"the strongest neighbour: {l}\")\n",
    "    "
   ]
  },
  {
   "cell_type": "markdown",
   "id": "fdf18595",
   "metadata": {},
   "source": [
    "**33-write a Python Program to print all Possible Combinations from the three Digits (Input: [1, 2, 3] Output: 1 2 3 ## 1 3 2 ## 2 1 3 ## 2 3 1 ## 3 1 2 ## 3 2 1)"
   ]
  },
  {
   "cell_type": "code",
   "execution_count": 37,
   "id": "2c693687",
   "metadata": {
    "ExecuteTime": {
     "end_time": "2024-03-11T21:26:43.211173Z",
     "start_time": "2024-03-11T21:26:43.201661Z"
    }
   },
   "outputs": [
    {
     "name": "stdout",
     "output_type": "stream",
     "text": [
      "1 2 3\n",
      "1 3 2\n",
      "2 1 3\n",
      "2 3 1\n",
      "3 1 2\n",
      "3 2 1\n"
     ]
    }
   ],
   "source": [
    "_list = [1,2,3]\n",
    "size = len(_list,)\n",
    "for i in range(size):\n",
    "    for j in range(size):\n",
    "        for k in range(size):\n",
    "            if (i!=j and j!=k and k != i): \n",
    "                print(_list[i], _list[j], _list[k]) \n",
    "                "
   ]
  },
  {
   "cell_type": "markdown",
   "id": "4af1b510",
   "metadata": {
    "ExecuteTime": {
     "end_time": "2024-03-11T21:24:25.836901Z",
     "start_time": "2024-03-11T21:24:25.819325Z"
    }
   },
   "source": [
    "**34-write a Python program to find all the Combinations in the list with the given condition (Input: test_list = [1,2,3] Output: [1], [1, 2], [1, 2, 3], [1, 3] [2], [2, 3], [3])"
   ]
  },
  {
   "cell_type": "code",
   "execution_count": 5,
   "id": "b2ff49f9",
   "metadata": {
    "ExecuteTime": {
     "end_time": "2024-03-12T20:55:27.033064Z",
     "start_time": "2024-03-12T20:55:27.017024Z"
    }
   },
   "outputs": [
    {
     "name": "stdout",
     "output_type": "stream",
     "text": [
      "[(1, 1), (1, 2), (1, 3), (2, 1), (2, 2), (2, 3), (3, 1), (3, 2), (3, 3)]\n"
     ]
    }
   ],
   "source": [
    "test_list = [1,2,3]\n",
    "combinations = []\n",
    "for i in range(len(test_list)):\n",
    "    for j in range(len(test_list)):\n",
    "        combinations.append((test_list[i],test_list[j]))\n",
    "\n",
    "print(combinations)"
   ]
  },
  {
   "cell_type": "markdown",
   "id": "5f942132",
   "metadata": {},
   "source": [
    "**35-write a Python program to get all unique combinations of two Lists (List_1 = [\"a\",\"b\"] List_2 = [1,2] Unique_combination = [[('a',1),('b',2)],[('a',2),('b',1)]] )"
   ]
  },
  {
   "cell_type": "code",
   "execution_count": 2,
   "id": "2e263ea6",
   "metadata": {
    "ExecuteTime": {
     "end_time": "2024-03-12T20:24:24.278205Z",
     "start_time": "2024-03-12T20:24:24.254204Z"
    }
   },
   "outputs": [
    {
     "name": "stdout",
     "output_type": "stream",
     "text": [
      "[('a', 1), ('a', 2), ('b', 1), ('b', 2)]\n"
     ]
    }
   ],
   "source": [
    "list_1 = [\"a\",\"b\"] \n",
    "list_2 = [1,2]\n",
    "\n",
    "combinations = []\n",
    "\n",
    "for i in range(len(list_1)):\n",
    "    for j in range(len(list_2)):\n",
    "        combinations.append((list_1[i],list_2[j]))\n",
    "\n",
    "print(combinations)"
   ]
  },
  {
   "cell_type": "markdown",
   "id": "7693701f",
   "metadata": {},
   "source": [
    "**36-Remove all the occurrences of an element from a list in Python (Input : 1 1 2 3 4 5 1 2 1\n",
    "\n",
    "**Output : 2 3 4 5 2)"
   ]
  },
  {
   "cell_type": "code",
   "execution_count": 32,
   "id": "8f32626c",
   "metadata": {
    "ExecuteTime": {
     "end_time": "2024-03-12T21:37:55.508028Z",
     "start_time": "2024-03-12T21:37:55.497309Z"
    }
   },
   "outputs": [
    {
     "name": "stdout",
     "output_type": "stream",
     "text": [
      "[2, 3, 4, 5, 2]\n"
     ]
    }
   ],
   "source": [
    "def remove_element(l,k):\n",
    "    result = []\n",
    "    \n",
    "    for i in l:\n",
    "        if i != k:\n",
    "            result.append(i)\n",
    "    return result\n",
    "\n",
    "list_test = [1,1,2,3,4,5,1,2,1]\n",
    "k = 1\n",
    "\n",
    "print(remove_element(list_test,k))"
   ]
  },
  {
   "cell_type": "markdown",
   "id": "1addd1cb",
   "metadata": {},
   "source": [
    "**37-write a python program to Replace index elements with elements in Other List (The original list 1 is : [‘Gfg’, ‘is’, ‘best’] The original list 2 is : [0, 1, 2, 1, 0, 0, 0, 2, 1, 1, 2, 0] The lists after index elements replacements is : [‘Gfg’, ‘is’, ‘best’, ‘is’, ‘Gfg’, ‘Gfg’, ‘Gfg’, ‘best’, ‘is’, ‘is’, ‘best’, ‘Gfg’])"
   ]
  },
  {
   "cell_type": "code",
   "execution_count": 31,
   "id": "2dda7664",
   "metadata": {
    "ExecuteTime": {
     "end_time": "2024-03-12T21:34:51.719964Z",
     "start_time": "2024-03-12T21:34:51.700745Z"
    }
   },
   "outputs": [
    {
     "name": "stdout",
     "output_type": "stream",
     "text": [
      "['Gfg', 'is', 'best', 'is', 'Gfg', 'Gfg', 'Gfg', 'best', 'is', 'is', 'best', 'Gfg']\n"
     ]
    }
   ],
   "source": [
    "def replace(list1, list2):\n",
    "    result = []\n",
    "\n",
    "    for i in range(len(list2)):\n",
    "        result.append(list1[list2[i]])\n",
    "\n",
    "    return result\n",
    "\n",
    "list1 = [\"Gfg\", \"is\", \"best\"]\n",
    "list2 = [0, 1, 2, 1, 0, 0, 0, 2, 1, 1, 2, 0]\n",
    "\n",
    "result = replace(list1, list2)\n",
    "\n",
    "print(result)"
   ]
  },
  {
   "cell_type": "markdown",
   "id": "32373214",
   "metadata": {},
   "source": [
    "**38- write python program to Retain records with N occurrences of K(Input : test_list = [(4, 5, 5, 4), (5, 4, 3)], K = 5, N = 2 Output : [(4, 5, 5, 4)] Input : test_list = [(4, 5, 5, 4), (5, 4, 3)], K = 5, N = 3 Output : [] )"
   ]
  },
  {
   "cell_type": "code",
   "execution_count": 30,
   "id": "86f226c1",
   "metadata": {
    "ExecuteTime": {
     "end_time": "2024-03-12T21:32:54.816550Z",
     "start_time": "2024-03-12T21:32:54.802200Z"
    }
   },
   "outputs": [
    {
     "name": "stdout",
     "output_type": "stream",
     "text": [
      "[(4, 5, 5, 4)]\n"
     ]
    }
   ],
   "source": [
    "test_list = [(4, 5, 5, 4), (5, 4, 3)]\n",
    "K = 5\n",
    "N = 2 \n",
    "result = []\n",
    "for i in test_list:\n",
    "    if i.count(K)  == N:\n",
    "        result.append(i)\n",
    "    \n",
    "print(result)"
   ]
  },
  {
   "cell_type": "markdown",
   "id": "f09a2f55",
   "metadata": {},
   "source": [
    "**39-write a Python Program to Sort the list according to the column using lambda array = [[1, 3, 3], [2, 1, 2], [3, 2, 1]] Output : Sorted array specific to column 0, [[1, 3, 3], [2, 1, 2], [3, 2, 1]] Sorted array specific to column 1, [[2, 1, 2], [3, 2, 1], [1, 3, 3]] Sorted array specific to column 2, [[3, 2, 1], [2, 1, 2], [1, 3, 3]]"
   ]
  },
  {
   "cell_type": "code",
   "execution_count": 18,
   "id": "2569953d",
   "metadata": {
    "ExecuteTime": {
     "end_time": "2024-03-14T18:58:29.703988Z",
     "start_time": "2024-03-14T18:58:29.678987Z"
    }
   },
   "outputs": [
    {
     "name": "stdout",
     "output_type": "stream",
     "text": [
      "[[1, 3, 3], [2, 1, 2], [3, 2, 1]]\n",
      "[[2, 1, 2], [3, 2, 1], [1, 3, 3]]\n",
      "[[3, 2, 1], [2, 1, 2], [1, 3, 3]]\n"
     ]
    }
   ],
   "source": [
    "array = [[1, 3, 3], [2, 1, 2], [3, 2, 1]]\n",
    "for i in range(len(array)):\n",
    "    result = sorted(array,key=lambda l:l[i])\n",
    "    print(result)"
   ]
  },
  {
   "cell_type": "markdown",
   "id": "6462131d",
   "metadata": {},
   "source": [
    "**40- write a program to Sort Python Dictionaries by Key or Value Input: {'ravi': 10, 'rajnish': 9, 'sanjeev': 15, 'yash': 2, 'suraj': 32}\n",
    "\n",
    "Output: {'rajnish': 9, 'ravi': 10, 'sanjeev': 15, 'suraj': 32, 'yash': 2}"
   ]
  },
  {
   "cell_type": "code",
   "execution_count": 35,
   "id": "de2caeb2",
   "metadata": {
    "ExecuteTime": {
     "end_time": "2024-03-14T19:12:32.477228Z",
     "start_time": "2024-03-14T19:12:32.462435Z"
    }
   },
   "outputs": [
    {
     "name": "stdout",
     "output_type": "stream",
     "text": [
      "The sorted dictionary by key is : {'rajnish': 9, 'ravi': 10, 'sanjeev': 15, 'suraj': 32, 'yash': 2}\n",
      "The sorted dictionary by values is : [('yash', 2), ('rajnish', 9), ('ravi', 10), ('sanjeev', 15), ('suraj', 32)]\n"
     ]
    }
   ],
   "source": [
    "dic = {'ravi': 10, 'rajnish': 9, 'sanjeev': 15, 'yash': 2, 'suraj': 32}\n",
    "# for keys\n",
    "_keys = list(dic.keys())\n",
    "\n",
    "_keys.sort()\n",
    "sort_dic = {x: dic[x] for x in _keys}\n",
    "\n",
    "print(f\"The sorted dictionary by key is : {sort_dic}\")\n",
    "\n",
    "\n",
    "# for values\n",
    "\n",
    "sort_dic = sorted(dic.items(), key= lambda x: x[1])\n",
    "print(f\"The sorted dictionary by values is : {sort_dic}\")\n",
    "\n"
   ]
  },
  {
   "cell_type": "markdown",
   "id": "75ef914a",
   "metadata": {},
   "source": [
    "**41-write python program to Remove keys with Values Greater than K ( Including mixed values ) nput : test_dict = {‘Gfg’ : 3, ‘is’ : 7, ‘best’ : 10, ‘for’ : 6, ‘geeks’ : ‘CS’}, K = 7 Output : {‘Gfg’ : 3, ‘for’ : 6, ‘geeks’ : ‘CS’}"
   ]
  },
  {
   "cell_type": "code",
   "execution_count": 28,
   "id": "4de56022",
   "metadata": {
    "ExecuteTime": {
     "end_time": "2024-03-12T21:27:04.316257Z",
     "start_time": "2024-03-12T21:27:04.294367Z"
    }
   },
   "outputs": [
    {
     "name": "stdout",
     "output_type": "stream",
     "text": [
      "{'Gfg': 3, 'for': 6}\n"
     ]
    }
   ],
   "source": [
    "def remove_key(dic,k):\n",
    "    result = {}\n",
    "\n",
    "    for key, value in test_dict.items():\n",
    "        if isinstance(value, int) and value < K:\n",
    "              result[key] = value\n",
    "    return result\n",
    "\n",
    "test_dict = {'Gfg' : 3, 'is' : 7, 'best' : 10, 'for' : 6, 'geeks' : 'CS'}\n",
    "k = 7 \n",
    "print(remove_key(test_dict,k))"
   ]
  },
  {
   "cell_type": "markdown",
   "id": "65dbdcc2",
   "metadata": {},
   "source": [
    "**42-Write a Python program to concatenate the following dictionaries to create a new one\n",
    "\n",
    "Sample Dictionary : dic1={1:10, 2:20} dic2={3:30, 4:40} dic3={5:50,6:60} Expected Result : {1: 10, 2: 20, 3: 30, 4: 40, 5: 50, 6: 60}"
   ]
  },
  {
   "cell_type": "code",
   "execution_count": 6,
   "id": "e754cb95",
   "metadata": {
    "ExecuteTime": {
     "end_time": "2024-03-12T21:04:32.391006Z",
     "start_time": "2024-03-12T21:04:32.358450Z"
    }
   },
   "outputs": [
    {
     "data": {
      "text/plain": [
       "{1: 10, 2: 20, 3: 30, 4: 40, 5: 50, 6: 60}"
      ]
     },
     "execution_count": 6,
     "metadata": {},
     "output_type": "execute_result"
    }
   ],
   "source": [
    "dic1={1:10, 2:20}\n",
    "dic2={3:30, 4:40} \n",
    "dic3={5:50,6:60}\n",
    "\n",
    "for i in (dic1,dic2,dic3):\n",
    "    dic1.update(i)\n",
    "    \n",
    "dic1"
   ]
  },
  {
   "cell_type": "markdown",
   "id": "ae09143b",
   "metadata": {},
   "source": [
    "**43-Write a Python program to iterate over dictionaries using for loops"
   ]
  },
  {
   "cell_type": "code",
   "execution_count": 95,
   "id": "9edd560b",
   "metadata": {
    "ExecuteTime": {
     "end_time": "2024-03-11T22:28:38.348012Z",
     "start_time": "2024-03-11T22:28:38.340339Z"
    }
   },
   "outputs": [
    {
     "name": "stdout",
     "output_type": "stream",
     "text": [
      "one for ==> 1\n",
      "two for ==> 2\n",
      "three for ==> 3\n"
     ]
    }
   ],
   "source": [
    "d = {\"one\":1 , \"two\":2 , \"three\":3 }\n",
    "for key,value in d.items():\n",
    "    print(f\"{key} for ==> {value}\")"
   ]
  },
  {
   "cell_type": "markdown",
   "id": "d1a77a7a",
   "metadata": {},
   "source": [
    "**44- Write a Python script to merge two Python dictionaries"
   ]
  },
  {
   "cell_type": "code",
   "execution_count": 94,
   "id": "64239939",
   "metadata": {
    "ExecuteTime": {
     "end_time": "2024-03-11T22:25:27.516393Z",
     "start_time": "2024-03-11T22:25:27.495154Z"
    }
   },
   "outputs": [
    {
     "name": "stdout",
     "output_type": "stream",
     "text": [
      "{'a': 1, 'b': 2, 'c': 3, 'd': 4}\n"
     ]
    }
   ],
   "source": [
    "d1 = {'a': 1, 'b': 2}\n",
    "\n",
    "d2 = {'c': 3, 'd': 4}\n",
    "\n",
    "d1.update(d2)\n",
    "print(d1)"
   ]
  },
  {
   "cell_type": "markdown",
   "id": "ab9bb750",
   "metadata": {},
   "source": [
    "**45-Write a Python program to get the maximum and minimum values of a dictionary values"
   ]
  },
  {
   "cell_type": "code",
   "execution_count": 71,
   "id": "17e3d2a0",
   "metadata": {
    "ExecuteTime": {
     "end_time": "2024-03-11T21:51:12.863521Z",
     "start_time": "2024-03-11T21:51:12.856986Z"
    }
   },
   "outputs": [
    {
     "name": "stdout",
     "output_type": "stream",
     "text": [
      "the maximum value: 5874\n",
      "the minimum value: 500\n"
     ]
    }
   ],
   "source": [
    "my_dict = {'x': 500, 'y': 5874, 'z': 1008}\n",
    "\n",
    "print(f\"the maximum value: {max(my_dict.values())}\")\n",
    "print(f\"the minimum value: {min(my_dict.values())}\")"
   ]
  },
  {
   "cell_type": "markdown",
   "id": "c25875a3",
   "metadata": {},
   "source": [
    "**46- Write a Python program to drop empty items from a given dictionary. Original Dictionary: {'c1': 'Red', 'c2': 'Green', 'c3': None} New Dictionary after dropping empty items: {'c1': 'Red', 'c2': 'Green'}"
   ]
  },
  {
   "cell_type": "code",
   "execution_count": 87,
   "id": "2660166b",
   "metadata": {
    "ExecuteTime": {
     "end_time": "2024-03-11T22:19:10.347493Z",
     "start_time": "2024-03-11T22:19:10.328696Z"
    },
    "scrolled": true
   },
   "outputs": [
    {
     "name": "stdout",
     "output_type": "stream",
     "text": [
      "{'c1': 'Red', 'c2': 'Green', 'c4': 'blue'}\n"
     ]
    }
   ],
   "source": [
    "dic = {'c1': 'Red', 'c2': 'Green', 'c3': None,  'c4': 'blue'}\n",
    "dic1 = {}\n",
    "for key, value in dic.items():\n",
    "    if value is not None:\n",
    "        dic1[key] = value\n",
    "        \n",
    "print(dic1)"
   ]
  },
  {
   "cell_type": "markdown",
   "id": "0f9e9713",
   "metadata": {},
   "source": [
    "**47-Write a Python program to create a tuple of numbers and print one item"
   ]
  },
  {
   "cell_type": "code",
   "execution_count": 89,
   "id": "d80dc112",
   "metadata": {
    "ExecuteTime": {
     "end_time": "2024-03-11T22:22:47.526769Z",
     "start_time": "2024-03-11T22:22:47.508755Z"
    }
   },
   "outputs": [
    {
     "name": "stdout",
     "output_type": "stream",
     "text": [
      "1\n"
     ]
    }
   ],
   "source": [
    "tup = (1,2,3,6,7,8)\n",
    "\n",
    "print(tup[0])"
   ]
  },
  {
   "cell_type": "markdown",
   "id": "2a5bc51a",
   "metadata": {},
   "source": [
    "**48-Write a Python program to unpack a tuple into several variables"
   ]
  },
  {
   "cell_type": "code",
   "execution_count": 72,
   "id": "ef8c83fb",
   "metadata": {
    "ExecuteTime": {
     "end_time": "2024-03-11T21:57:01.850854Z",
     "start_time": "2024-03-11T21:57:01.828858Z"
    }
   },
   "outputs": [
    {
     "name": "stdout",
     "output_type": "stream",
     "text": [
      "var1: 1 \n",
      "var2: 2 \n",
      "var3: 3\n"
     ]
    }
   ],
   "source": [
    "tup = (1,2,3)\n",
    "var1, var2, var3 = tup\n",
    "\n",
    "print(f\"var1: {var1} \\nvar2: {var2} \\nvar3: {var3}\")"
   ]
  },
  {
   "cell_type": "markdown",
   "id": "23a4f16b",
   "metadata": {},
   "source": [
    "**49-Write a Python program to add an item to a tuple"
   ]
  },
  {
   "cell_type": "code",
   "execution_count": 69,
   "id": "5f722fb2",
   "metadata": {
    "ExecuteTime": {
     "end_time": "2024-03-11T21:48:04.601332Z",
     "start_time": "2024-03-11T21:48:04.584363Z"
    }
   },
   "outputs": [
    {
     "data": {
      "text/plain": [
       "(15, 87, 232, 27, 883, 863, 382, 5)"
      ]
     },
     "execution_count": 69,
     "metadata": {},
     "output_type": "execute_result"
    }
   ],
   "source": [
    "tup = (15,87,232,27,883,863,382)\n",
    "x =5\n",
    "list_ = list(tup)\n",
    "list_.append(x)\n",
    "tup = tuple(list_)\n",
    "tup"
   ]
  },
  {
   "cell_type": "markdown",
   "id": "315a89ad",
   "metadata": {},
   "source": [
    "**50-Write a Python program to convert a tuple to a string"
   ]
  },
  {
   "cell_type": "code",
   "execution_count": 64,
   "id": "a3d344c8",
   "metadata": {
    "ExecuteTime": {
     "end_time": "2024-03-11T21:44:04.632245Z",
     "start_time": "2024-03-11T21:44:04.613412Z"
    }
   },
   "outputs": [
    {
     "name": "stdout",
     "output_type": "stream",
     "text": [
      "mo affan mohamed\n",
      "mo affan mohamed\n"
     ]
    }
   ],
   "source": [
    "tuple1 = ('mo ','affan ','mohamed')\n",
    "print(''.join((tuple1)))\n",
    "\n",
    "\n",
    "string = ''\n",
    "for i in range(len(tuple1)):\n",
    "    string += tuple1[i]\n",
    "print(string)\n",
    "\n",
    "\n"
   ]
  },
  {
   "cell_type": "markdown",
   "id": "36df0492",
   "metadata": {},
   "source": [
    "**51-Write a Python program to convert a list to a tuple"
   ]
  },
  {
   "cell_type": "code",
   "execution_count": 38,
   "id": "575d4826",
   "metadata": {
    "ExecuteTime": {
     "end_time": "2024-03-11T21:31:16.299315Z",
     "start_time": "2024-03-11T21:31:16.281616Z"
    }
   },
   "outputs": [
    {
     "name": "stdout",
     "output_type": "stream",
     "text": [
      "('mohammed', 22, '6/2/2002', 'single')\n"
     ]
    }
   ],
   "source": [
    "l = ['mohammed',22,'6/2/2002','single']\n",
    "print(tuple(l))"
   ]
  },
  {
   "cell_type": "markdown",
   "id": "21e214e2",
   "metadata": {},
   "source": [
    "**52-Write a Python program to reverse a tuple"
   ]
  },
  {
   "cell_type": "code",
   "execution_count": 40,
   "id": "fe096805",
   "metadata": {
    "ExecuteTime": {
     "end_time": "2024-03-11T21:32:06.373664Z",
     "start_time": "2024-03-11T21:32:06.352098Z"
    }
   },
   "outputs": [
    {
     "name": "stdout",
     "output_type": "stream",
     "text": [
      "('0', '.', '3', ' ', 'n', 'o', 'h', 't', 'y', 'p')\n"
     ]
    }
   ],
   "source": [
    "tuble = ('p', 'y', 't', 'h', 'o', 'n', ' ', '3', '.', '0')\n",
    "tuble_rev = ''\n",
    "for i in range(len(tuble)-1,-1,-1):\n",
    "    tuble_rev += tuble[i]\n",
    "print(tuple(tuble_rev))"
   ]
  },
  {
   "cell_type": "markdown",
   "id": "78e1a24f",
   "metadata": {},
   "source": [
    "**53-Write a Python program to replace the last value of tuples in a list. Sample list: [(10, 20, 40), (40, 50, 60), (70, 80, 90)] Expected Output: [(10, 20, 100), (40, 50, 100), (70, 80, 100)]"
   ]
  },
  {
   "cell_type": "code",
   "execution_count": 41,
   "id": "589ea9f3",
   "metadata": {
    "ExecuteTime": {
     "end_time": "2024-03-11T21:32:23.534669Z",
     "start_time": "2024-03-11T21:32:21.927485Z"
    }
   },
   "outputs": [
    {
     "name": "stdout",
     "output_type": "stream",
     "text": [
      "[(10, 20, 100), (40, 50, 100), (70, 80, 100)]\n"
     ]
    }
   ],
   "source": [
    "list2 = [(10,20,40),(40,50,60),(70,80,90)]\n",
    "list2 = [t[:-1] + (100,) for t in list2]\n",
    "print(list2)"
   ]
  },
  {
   "cell_type": "markdown",
   "id": "f3bbaa81",
   "metadata": {},
   "source": [
    "**54-Write a Python program to convert a given string list to a tuple Original string: python 3.0 <class 'str'> Convert the said string to a tuple: ('p', 'y', 't', 'h', 'o', 'n', '3', '.', '0')"
   ]
  },
  {
   "cell_type": "code",
   "execution_count": 42,
   "id": "51e976f4",
   "metadata": {
    "ExecuteTime": {
     "end_time": "2024-03-11T21:32:37.097236Z",
     "start_time": "2024-03-11T21:32:37.090954Z"
    }
   },
   "outputs": [
    {
     "name": "stdout",
     "output_type": "stream",
     "text": [
      "convert the string: python 3.0 to tuble: ('p', 'y', 't', 'h', 'o', 'n', ' ', '3', '.', '0')\n"
     ]
    }
   ],
   "source": [
    "string = \"python 3.0\"\n",
    "print(f\"convert the string: {string} to tuble: {tuple(string)}\")"
   ]
  },
  {
   "cell_type": "markdown",
   "id": "87b24659",
   "metadata": {},
   "source": [
    "**55-Write a Python program to calculate the average value of the numbers in a given tuple of tuples"
   ]
  },
  {
   "cell_type": "code",
   "execution_count": 43,
   "id": "d3574e76",
   "metadata": {
    "ExecuteTime": {
     "end_time": "2024-03-11T21:32:50.782054Z",
     "start_time": "2024-03-11T21:32:50.761859Z"
    }
   },
   "outputs": [
    {
     "name": "stdout",
     "output_type": "stream",
     "text": [
      "the average value of the tuble is = 355.57142857142856\n"
     ]
    }
   ],
   "source": [
    "tub = (15,87,232,27,883,863,382)\n",
    "average = sum(tub) / len(tub)\n",
    "\n",
    "print(f\"the average value of the tuble is = {average}\")"
   ]
  },
  {
   "cell_type": "markdown",
   "id": "350fda17",
   "metadata": {},
   "source": [
    "**56-Write a Python program to add member(s) to a set."
   ]
  },
  {
   "cell_type": "code",
   "execution_count": 44,
   "id": "4d87ff3d",
   "metadata": {
    "ExecuteTime": {
     "end_time": "2024-03-11T21:33:17.030495Z",
     "start_time": "2024-03-11T21:33:14.222585Z"
    }
   },
   "outputs": [
    {
     "name": "stdout",
     "output_type": "stream",
     "text": [
      "Enter the number in set: 15\n",
      "the number 15 add in the set\n"
     ]
    },
    {
     "data": {
      "text/plain": [
       "{15, 58, 85, 155, 282, 383, 728}"
      ]
     },
     "execution_count": 44,
     "metadata": {},
     "output_type": "execute_result"
    }
   ],
   "source": [
    "set ={155,282,728,383,58,85,85}\n",
    "number = int(input('Enter the number in set: '))\n",
    "if number in set:\n",
    "    print(f\"sorry the number {number} found in the set\")\n",
    "else:\n",
    "    set.add(number)\n",
    "    print(f\"the number {number} add in the set\")\n",
    "    \n",
    "set"
   ]
  },
  {
   "cell_type": "markdown",
   "id": "fa5ddb53",
   "metadata": {},
   "source": [
    "**57-Write a Python program to remove an item from a set if it is present in the set."
   ]
  },
  {
   "cell_type": "code",
   "execution_count": 45,
   "id": "8f1b1b0b",
   "metadata": {
    "ExecuteTime": {
     "end_time": "2024-03-11T21:33:32.540744Z",
     "start_time": "2024-03-11T21:33:30.562820Z"
    }
   },
   "outputs": [
    {
     "name": "stdout",
     "output_type": "stream",
     "text": [
      "enter the number to cheak: 15\n",
      "the number removed => the new set is {18, 3, 4, 9, 10, 125}\n"
     ]
    }
   ],
   "source": [
    "set = {15,18,125,4,3,9,10}\n",
    "number = int(input(\"enter the number to cheak: \"))\n",
    "if number in set:\n",
    "    set.remove(number)\n",
    "    print(f\"the number removed => the new set is {set}\")\n",
    "else:\n",
    "    print(\"the number not found in set\")"
   ]
  },
  {
   "cell_type": "markdown",
   "id": "fb6d453f",
   "metadata": {},
   "source": [
    "**58-Write a Python program to create an intersection,union,difference and symmetric difference of sets"
   ]
  },
  {
   "cell_type": "code",
   "execution_count": 46,
   "id": "560c2621",
   "metadata": {
    "ExecuteTime": {
     "end_time": "2024-03-11T21:33:44.904051Z",
     "start_time": "2024-03-11T21:33:44.882045Z"
    }
   },
   "outputs": [
    {
     "name": "stdout",
     "output_type": "stream",
     "text": [
      "the intersection of sets : {1.5, 2, 48, 658, 'affan', 154}\n",
      "the union of sets : {1.5, 2, 3, 4, 1, 11, 'mohammed', 658, 'affan', 154, 48}\n",
      "the difrence of sets : {11}\n",
      "the symmetric diffrence of sets : {3, 4, 1, 11, 'mohammed'}\n"
     ]
    }
   ],
   "source": [
    "set1 = {154,'affan',48,658,1.5,2,11}\n",
    "set2 = {154,'affan','mohammed',48,658,1.5,2,1,3,4}\n",
    "print(f\"the intersection of sets : {set1.intersection(set2)}\")\n",
    "print(f\"the union of sets : {set1.union(set2)}\")\n",
    "print(f\"the difrence of sets : {set1.difference(set2)}\")\n",
    "print(f\"the symmetric diffrence of sets : {set1.symmetric_difference(set2)}\")"
   ]
  },
  {
   "cell_type": "markdown",
   "id": "a763a6d8",
   "metadata": {},
   "source": [
    "**59-Write a Python program to find the maximum and minimum values in a set"
   ]
  },
  {
   "cell_type": "code",
   "execution_count": 47,
   "id": "5f20788c",
   "metadata": {
    "ExecuteTime": {
     "end_time": "2024-03-11T21:33:56.881409Z",
     "start_time": "2024-03-11T21:33:56.859886Z"
    }
   },
   "outputs": [
    {
     "name": "stdout",
     "output_type": "stream",
     "text": [
      "the max value of set: 268, the min value of set: 0\n"
     ]
    }
   ],
   "source": [
    "set1 ={1,2,38,9,25,222,268,0}\n",
    "print(f\"the max value of set: {max(set1)}, the min value of set: {min(set1)}\")"
   ]
  },
  {
   "cell_type": "markdown",
   "id": "149bdb94",
   "metadata": {},
   "source": [
    "**60- Write a Python program that finds all pairs of elements in a list whose sum is equal to a given value."
   ]
  },
  {
   "cell_type": "code",
   "execution_count": 51,
   "id": "73488d9b",
   "metadata": {
    "ExecuteTime": {
     "end_time": "2024-03-11T21:36:30.907067Z",
     "start_time": "2024-03-11T21:36:30.885583Z"
    }
   },
   "outputs": [
    {
     "name": "stdout",
     "output_type": "stream",
     "text": [
      "Target = 30\n",
      "the all pairs = [(15, 15), (14, 16), (16, 14), (30, 0), (16, 14), (0, 30)]\n"
     ]
    }
   ],
   "source": [
    "def pairs_of_values(nums, target):\n",
    "    pairs = []\n",
    "    \n",
    "    for i in nums:\n",
    "        temp = target - i\n",
    "        \n",
    "        if temp in nums:\n",
    "            pairs.append((i,temp))\n",
    "            \n",
    "    return pairs\n",
    "    \n",
    "    \n",
    "    \n",
    "\n",
    "nums = [1,15,182,14,16,30,16,8,0,36,2,4,6,8]\n",
    "target = 30\n",
    "print(f\"Target = {target}\")\n",
    "print(f'the all pairs = {pairs_of_values(nums,target)}')"
   ]
  },
  {
   "cell_type": "code",
   "execution_count": null,
   "id": "e03352b2",
   "metadata": {},
   "outputs": [],
   "source": []
  }
 ],
 "metadata": {
  "hide_input": false,
  "kernelspec": {
   "display_name": "Python 3 (ipykernel)",
   "language": "python",
   "name": "python3"
  },
  "language_info": {
   "codemirror_mode": {
    "name": "ipython",
    "version": 3
   },
   "file_extension": ".py",
   "mimetype": "text/x-python",
   "name": "python",
   "nbconvert_exporter": "python",
   "pygments_lexer": "ipython3",
   "version": "3.9.13"
  }
 },
 "nbformat": 4,
 "nbformat_minor": 5
}
